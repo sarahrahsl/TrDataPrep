{
 "cells": [
  {
   "cell_type": "markdown",
   "metadata": {},
   "source": [
    "## Generate validation ROI\n",
    "\n",
    "**Input**\n",
    "- CSV file with all the parameters generated from ROI_previewUI\n",
    "\n",
    "**Output**\n",
    "- create a \"Validation\" folder. \n",
    "- Generate .JPEG stacks and save them in the folder created (without data augmentation)."
   ]
  },
  {
   "cell_type": "code",
   "execution_count": 1,
   "metadata": {},
   "outputs": [
    {
     "name": "stderr",
     "output_type": "stream",
     "text": [
      "<frozen importlib._bootstrap>:219: RuntimeWarning: numpy.ndarray size changed, may indicate binary incompatibility. Expected 80 from C header, got 88 from PyObject\n"
     ]
    }
   ],
   "source": [
    "import os\n",
    "import h5py as h5\n",
    "from Functions.CollectImgStack_validation import *\n",
    "import warnings\n",
    "warnings.filterwarnings(\"ignore\")"
   ]
  },
  {
   "cell_type": "code",
   "execution_count": 2,
   "metadata": {},
   "outputs": [],
   "source": [
    "def main(h5path\n",
    "        ,train_home\n",
    "        ,hiclip_val, lowclip_val\n",
    "        ,nuc_clip_low, nuc_clip_high\n",
    "        ,cyto_clip_low, cyto_clip_high\n",
    "        ,clahe\n",
    "        ,xstart, ystart, zstart\n",
    "        ,ROI_dim\n",
    "        ,no_of_layer\n",
    "        ,orient\n",
    "        ,res\n",
    "        ):\n",
    "\n",
    "    filename = h5path\n",
    "    if not os.path.exists(train_home):\n",
    "        os.mkdir(train_home)\n",
    "    savedir = train_home + os.sep + 'validation'\n",
    "    if not os.path.exists(savedir):\n",
    "        os.mkdir(savedir)\n",
    "\n",
    "    split = filename.count(\"/\") - 1\n",
    "    blockname = filename.split(\"/\")[split]\n",
    "    print(blockname,\"[ xyz:\",xstart,ystart,zstart,\"]\")\n",
    "    print(savedir)\n",
    "\n",
    "    xstop = xstart + ROI_dim\n",
    "    xcoords = (xstart, xstop)\n",
    "\n",
    "    ystop = ystart + ROI_dim\n",
    "    ycoords = (ystart, ystop)\n",
    "\n",
    "    zstop = zstart + no_of_layer\n",
    "    zcoords = (zstart, zstop)\n",
    "\n",
    "    with h5.File(filename, 'r') as f:\n",
    "        collectImgStackFused(f,\n",
    "                        savedir,\n",
    "                        blockname,\n",
    "                        zcoords,\n",
    "                        xcoords,\n",
    "                        ycoords,\n",
    "                        orient,\n",
    "                        CLAHE=clahe,\n",
    "                        hiclip_val  = hiclip_val,\n",
    "                        lowclip_val = lowclip_val,\n",
    "                        nuc_clip_low   = nuc_clip_low,\n",
    "                        nuc_clip_high  = nuc_clip_high,\n",
    "                        cyto_clip_low  = cyto_clip_low,\n",
    "                        cyto_clip_high = cyto_clip_high, \n",
    "                        res = res)\n",
    "    f.close()"
   ]
  },
  {
   "cell_type": "code",
   "execution_count": 5,
   "metadata": {},
   "outputs": [
    {
     "name": "stdout",
     "output_type": "stream",
     "text": [
      "ROI # 0\n",
      "OTLS4_NODO_12-20-23_ProstateC_CD31 [ xyz: 4029 2700 104 ]\n",
      "Z:/Sarah/ROI_PreviewUI/coords\\train\n",
      "reading img s01\n",
      "reading img s02\n",
      "reading img s00\n"
     ]
    }
   ],
   "source": [
    "import pandas as pd\n",
    "import time\n",
    "fname = r\"Z:\\Sarah\\ROI_PreviewUI\\coords/ROI_coords_2024-01-25.csv\" #change this\n",
    "res = 1 # change to 0 if you want 2X ds\n",
    "\n",
    "df = pd.read_csv(fname)\n",
    "df = df.dropna(how=\"all\")\n",
    "\n",
    "for i in range(len(df)):\n",
    "    print(\"ROI #\", i)\n",
    "    if i == 0:\n",
    "        start = time.time()\n",
    "    elif i == 1:\n",
    "        print(\"Time per ROI : \", start-time.time()/60, \"min\")\n",
    "\n",
    "    h5path = df[\"h5path\"][i]\n",
    "    Ab_home = df[\"Abhome\"][i]\n",
    "    hiclip_val = df[\"pgp_clipHigh\"][i]\n",
    "    lowclip_val = df[\"pgp_clipLow\"][i]\n",
    "    nuc_clip_low = df[\"nuc_clipLow\"][i]\n",
    "    nuc_clip_high = df[\"nuc_clipHigh\"][i]\n",
    "    cyto_clip_low = df[\"cyto_clipLow\"][i]\n",
    "    cyto_clip_high = df[\"cyto_clipHigh\"][i]\n",
    "    if df[\"pgp_ctehmt_method\"][i] == \"Rescale\":\n",
    "        clahe = False\n",
    "    else:\n",
    "        clahe = True    \n",
    "    xstart = df[\"xcoord\"][i]\n",
    "    ystart = df[\"ycoord\"][i]\n",
    "    zstart = df[\"zcoord\"][i]\n",
    "    ROI_dim = df[\"ROIdim\"][i]\n",
    "    no_of_layer = df[\"No_ofLayers\"][i]\n",
    "    orient = df[\"orient\"][i]\n",
    "\n",
    "    main(h5path\n",
    "        ,Ab_home\n",
    "        ,hiclip_val, lowclip_val\n",
    "        ,nuc_clip_low, nuc_clip_high\n",
    "        ,cyto_clip_low, cyto_clip_high\n",
    "        ,clahe\n",
    "        ,xstart,ystart,zstart\n",
    "        ,ROI_dim,no_of_layer\n",
    "        ,orient\n",
    "        ,res)\n"
   ]
  },
  {
   "cell_type": "code",
   "execution_count": null,
   "metadata": {},
   "outputs": [],
   "source": []
  }
 ],
 "metadata": {
  "kernelspec": {
   "display_name": "Python 3.8.3 ('base')",
   "language": "python",
   "name": "python3"
  },
  "language_info": {
   "codemirror_mode": {
    "name": "ipython",
    "version": 3
   },
   "file_extension": ".py",
   "mimetype": "text/x-python",
   "name": "python",
   "nbconvert_exporter": "python",
   "pygments_lexer": "ipython3",
   "version": "3.8.3"
  },
  "orig_nbformat": 4,
  "vscode": {
   "interpreter": {
    "hash": "ad2bdc8ecc057115af97d19610ffacc2b4e99fae6737bb82f5d7fb13d2f2c186"
   }
  }
 },
 "nbformat": 4,
 "nbformat_minor": 2
}
