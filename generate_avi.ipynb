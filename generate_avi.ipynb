{
 "cells": [
  {
   "cell_type": "markdown",
   "metadata": {},
   "source": [
    "Convert .nii.gz to .avi file"
   ]
  },
  {
   "cell_type": "code",
   "execution_count": 1,
   "metadata": {},
   "outputs": [
    {
     "name": "stdout",
     "output_type": "stream",
     "text": [
      "Z:\\Ray\\nnunet\\nnUNet_raw_data_base\\Dataset700_PGP9.5\\imagesTs\\result\\100ep_5fold_0311\\OTLS4_NODO_4-4-23_AFM045_well_1_Xindex_000000_Yindex_000003.avi\n",
      "Z:\\Ray\\nnunet\\nnUNet_raw_data_base\\Dataset700_PGP9.5\\imagesTs\\result\\100ep_5fold_0311\\OTLS4_NODO_4-4-23_AFM045_well_1_Xindex_000001_Yindex_000001.avi\n",
      "Z:\\Ray\\nnunet\\nnUNet_raw_data_base\\Dataset700_PGP9.5\\imagesTs\\result\\100ep_5fold_0311\\OTLS4_NODO_4-4-23_AFM045_well_1_Xindex_000001_Yindex_000002.avi\n",
      "Z:\\Ray\\nnunet\\nnUNet_raw_data_base\\Dataset700_PGP9.5\\imagesTs\\result\\100ep_5fold_0311\\OTLS4_NODO_4-4-23_AFM045_well_1_Xindex_000003_Yindex_000000.avi\n",
      "Z:\\Ray\\nnunet\\nnUNet_raw_data_base\\Dataset700_PGP9.5\\imagesTs\\result\\100ep_5fold_0311\\OTLS4_NODO_4-4-23_AFM045_well_1_Xindex_000003_Yindex_000001.avi\n",
      "Z:\\Ray\\nnunet\\nnUNet_raw_data_base\\Dataset700_PGP9.5\\imagesTs\\result\\100ep_5fold_0311\\OTLS4_NODO_4-4-23_AFM045_well_1_Xindex_000004_Yindex_000000.avi\n",
      "Z:\\Ray\\nnunet\\nnUNet_raw_data_base\\Dataset700_PGP9.5\\imagesTs\\result\\100ep_5fold_0311\\OTLS4_NODO_9-12-23_15-071N_R2_PGP9.5_Xpos_006100_006740_Ypos_007274_007914_stack_000312_000344.avi\n",
      "Z:\\Ray\\nnunet\\nnUNet_raw_data_base\\Dataset700_PGP9.5\\imagesTs\\result\\100ep_5fold_0311\\OTLS4_NODO_9-12-23_15-071N_R2_PGP9.5_Xpos_007782_008422_Ypos_007378_008018_stack_000192_000328.avi\n",
      "Z:\\Ray\\nnunet\\nnUNet_raw_data_base\\Dataset700_PGP9.5\\imagesTs\\result\\100ep_5fold_0311\\OTLS4_NODO_9-12-23_15-071N_R2_PGP9.5_Xpos_008284_008924_Ypos_001006_001646_stack_000224_000288.avi\n"
     ]
    },
    {
     "name": "stderr",
     "output_type": "stream",
     "text": [
      "C:\\Users\\ADMINI~1\\AppData\\Local\\Temp/ipykernel_4792/3033246895.py:13: RuntimeWarning: invalid value encountered in true_divide\n",
      "  img_data = (img_data - np.min(img_data)) / (np.max(img_data) - np.min(img_data))\n"
     ]
    },
    {
     "name": "stdout",
     "output_type": "stream",
     "text": [
      "Z:\\Ray\\nnunet\\nnUNet_raw_data_base\\Dataset700_PGP9.5\\imagesTs\\result\\100ep_5fold_0311\\OTLS4_NODO_9-6-23_19-068I.1_PGP9.5_Xpos_000778_001418_Ypos_003344_003984_stack_000144_000264.avi\n",
      "Z:\\Ray\\nnunet\\nnUNet_raw_data_base\\Dataset700_PGP9.5\\imagesTs\\result\\100ep_5fold_0311\\OTLS4_NODO_9-6-23_19-068I.1_PGP9.5_Xpos_006196_006836_Ypos_000822_001462_stack_000120_000240.avi\n"
     ]
    }
   ],
   "source": [
    "import os\n",
    "import cv2\n",
    "import nibabel as nib\n",
    "import numpy as np\n",
    "\n",
    "# Function to convert 3D NIfTI image to video\n",
    "def nifti_to_video(nifti_path, output_path):\n",
    "    # Load NIfTI image\n",
    "    nifti_img = nib.load(nifti_path)\n",
    "    img_data = nifti_img.get_fdata()\n",
    "\n",
    "    # Normalize pixel values\n",
    "    img_data = (img_data - np.min(img_data)) / (np.max(img_data) - np.min(img_data))\n",
    "    img_data *= 255\n",
    "    img_data = img_data.astype(np.uint8)\n",
    "\n",
    "    # Convert to video\n",
    "    height, width, depth = img_data.shape\n",
    "    fourcc = cv2.VideoWriter_fourcc(*'MJPG')  # Use MJPG codec\n",
    "    out = cv2.VideoWriter(output_path, fourcc, 30.0, (width, height))\n",
    "\n",
    "    for i in range(depth):\n",
    "        slice_img = img_data[:, :, i]\n",
    "        colored_img = cv2.cvtColor(slice_img, cv2.COLOR_GRAY2BGR)\n",
    "        out.write(colored_img)\n",
    "\n",
    "    out.release()\n",
    "\n",
    "\n",
    "# Change directory\n",
    "folder_path = r\"Z:\\Ray\\nnunet\\nnUNet_raw_data_base\\Dataset700_PGP9.5\\imagesTs\\result\\100ep_5fold_0311\"\n",
    "for filename in os.listdir(folder_path):\n",
    "    if filename.endswith(\".nii.gz\"):\n",
    "        nifti_path = os.path.join(folder_path, filename)\n",
    "        output_path = os.path.join(folder_path, filename.replace(\".nii.gz\", \".avi\"))\n",
    "        print(output_path)\n",
    "        nifti_to_video(nifti_path, output_path)\n"
   ]
  },
  {
   "cell_type": "markdown",
   "metadata": {},
   "source": [
    "Convert .jpg stacks to .avi\n",
    "\n",
    "for vid2vid inference results"
   ]
  },
  {
   "cell_type": "code",
   "execution_count": null,
   "metadata": {},
   "outputs": [],
   "source": [
    "import os\n",
    "import cv2\n",
    "\n",
    "# Change directory\n",
    "folder = r\"W:\\ITAS3D_training_data\\PGP9.5\\validation_UPenn_AFM045\\results\\pgp_vid2vid_011824\\test_latest\"\n",
    "\n",
    "for subfolder in os.listdir(folder):\n",
    "    subfolder_path = os.path.join(folder, subfolder)\n",
    "    \n",
    "    # Skip if not a directory\n",
    "    if not os.path.isdir(subfolder_path):\n",
    "        continue\n",
    "    \n",
    "    image_stack = []\n",
    "    # Load JPEG images into a stack and convert to grayscale\n",
    "    for filename in os.listdir(subfolder_path):\n",
    "        if filename.endswith(\".jpg\") and filename.startswith(\"fake_\"):  # Only load JPEG files starting with \"fake_\"\n",
    "            img_path = os.path.join(subfolder_path, filename)\n",
    "            # print(\"Reading image:\", img_path)  # Debug information\n",
    "            img = cv2.imread(img_path)\n",
    "            if img is not None:\n",
    "                # print(\"Image loaded successfully\")  # Debug information\n",
    "                # gray_img = cv2.cvtColor(img, cv2.COLOR_BGR2GRAY)  # Convert to grayscale\n",
    "                image_stack.append(img)\n",
    "            else:\n",
    "                print(\"Failed to load image\")  # Debug information\n",
    "    \n",
    "    # Save the stack as an AVI video\n",
    "    if image_stack:\n",
    "        height, width = image_stack[0].shape\n",
    "        output_video_path = os.path.join(subfolder_path, \"output.avi\")\n",
    "        fourcc = cv2.VideoWriter_fourcc(*'MJPG')\n",
    "        out = cv2.VideoWriter(output_video_path, fourcc, 30.0, (width, height), isColor=False)  # Set isColor=False for grayscale video\n",
    "\n",
    "        for frame in image_stack:\n",
    "            out.write(frame)\n",
    "\n",
    "        out.release()"
   ]
  },
  {
   "cell_type": "markdown",
   "metadata": {},
   "source": [
    "Converting .jpeg stack to .avi"
   ]
  },
  {
   "cell_type": "code",
   "execution_count": null,
   "metadata": {},
   "outputs": [],
   "source": [
    "import os\n",
    "import cv2\n",
    "\n",
    "folder = r\"W:\\ITAS3D_training_data\\PGP9.5\\validation_640_2x_trilabel_heldout\\GT\\seg\"\n",
    "\n",
    "# Iterate through each subfolder\n",
    "for subfolder in os.listdir(folder):\n",
    "    subfolder_path = os.path.join(folder, subfolder)\n",
    "    \n",
    "    # Skip if not a directory\n",
    "    if not os.path.isdir(subfolder_path):\n",
    "        continue\n",
    "    \n",
    "    image_stack = []\n",
    "    # Load JPEG images into a stack\n",
    "    for filename in os.listdir(subfolder_path):\n",
    "        if filename.endswith(\".jpeg\"):\n",
    "            img = cv2.imread(os.path.join(subfolder_path, filename))\n",
    "            if img is not None:\n",
    "                image_stack.append(img)\n",
    "    \n",
    "    # Save the stack as an AVI video\n",
    "    if image_stack:\n",
    "        height, width, _ = image_stack[0].shape\n",
    "        output_video_path = os.path.join(subfolder_path, \"output.avi\")\n",
    "        fourcc = cv2.VideoWriter_fourcc(*'MJPG')\n",
    "        out = cv2.VideoWriter(output_video_path, fourcc, 23.0, (width, height))\n",
    "\n",
    "        for frame in image_stack:\n",
    "            out.write(frame)\n",
    "\n",
    "        out.release()"
   ]
  }
 ],
 "metadata": {
  "kernelspec": {
   "display_name": "Python 3.8.3 ('base')",
   "language": "python",
   "name": "python3"
  },
  "language_info": {
   "codemirror_mode": {
    "name": "ipython",
    "version": 3
   },
   "file_extension": ".py",
   "mimetype": "text/x-python",
   "name": "python",
   "nbconvert_exporter": "python",
   "pygments_lexer": "ipython3",
   "version": "3.8.3"
  },
  "orig_nbformat": 4,
  "vscode": {
   "interpreter": {
    "hash": "ad2bdc8ecc057115af97d19610ffacc2b4e99fae6737bb82f5d7fb13d2f2c186"
   }
  }
 },
 "nbformat": 4,
 "nbformat_minor": 2
}
