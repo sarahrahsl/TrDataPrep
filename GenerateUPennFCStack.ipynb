{
 "cells": [
  {
   "cell_type": "markdown",
   "metadata": {},
   "source": [
    "## False-color UPenn image block\n",
    "\n",
    "**Input**\n",
    "- nucdir (str)  : Directory of the Ch1 image block ( 2D .JPEG stacks), eg. \"test/Ch1/block1\"\n",
    "- cytodir (str) : Directory of the Ch2 image block ( 2D .JPEG stacks), eg. \"test/Ch1/block2\"\n",
    "- FChome (str)  : Directory of the resulting FC block to be saved , .eg \"test\"\n",
    "\n",
    "**Output**\n",
    "- Create a folder under *\"FChome/FC/blockname\"*\n",
    "- Save the false-colored 2D .JPEG stacks in the folder created."
   ]
  },
  {
   "cell_type": "code",
   "execution_count": 1,
   "metadata": {},
   "outputs": [],
   "source": [
    "import os\n",
    "import numpy as np\n",
    "from skimage.io import imread, imsave\n",
    "from Functions.fcoloring import *"
   ]
  },
  {
   "cell_type": "code",
   "execution_count": 4,
   "metadata": {},
   "outputs": [],
   "source": [
    "# Change these 3\n",
    "nucdir = r\"W:\\ITAS3D_training_data\\PGP9.5\\validation_UPenn_AFM045\\test\\ch1\\OTLS4_NODO_4-4-23_AFM045_well_1_Xindex_000003_Yindex_000000\"\n",
    "cytodir = r\"W:\\ITAS3D_training_data\\PGP9.5\\validation_UPenn_AFM045\\test\\ch2\\OTLS4_NODO_4-4-23_AFM045_well_1_Xindex_000003_Yindex_000000\"\n",
    "FC_home = r\"W:\\ITAS3D_training_data\\PGP9.5\\validation_UPenn_AFM045\\test\"\n",
    "\n",
    "HE_settings = {'nuclei': [0.17, 0.27, 0.105], 'cyto': [0.05, 1.0, 0.54]}\n",
    "nuc_normfactor=3000\n",
    "cyto_normfactor=8000\n",
    "\n",
    "nuc_block = os.listdir(nucdir)\n",
    "cyto_block = os.listdir(cytodir)\n",
    "nuc_block_path = [os.path.join(nucdir, i) for i in nuc_block]\n",
    "cyto_block_path = [os.path.join(cytodir, i) for i in cyto_block]\n",
    "\n",
    "blockname = cytodir.split(\"OTLS4\")[1]\n",
    "FC_folder = FC_home + os.sep + \"FC\"\n",
    "FC_block_dir = FC_folder + os.sep + blockname\n",
    "if not os.path.exists(FC_folder):\n",
    "    os.mkdir(FC_folder)\n",
    "if not os.path.exists(FC_block_dir):\n",
    "    os.mkdir(FC_block_dir)\n",
    "\n",
    "FC_blocks = [os.path.join(FC_block_dir, i ) for i in nuc_block]\n",
    "\n",
    "for nuc, cyto, FC in zip(nuc_block_path, cyto_block_path, FC_blocks):\n",
    "\n",
    "    nuc  = imread(nuc)\n",
    "    cyto = imread(cyto)\n",
    "    nuc =  FC_rescale(nuc,  1, 10000)\n",
    "    cyto = FC_rescale(cyto, 1, 10000)\n",
    "\n",
    "    pseudoHE = rapidFalseColor(nuc, cyto, \n",
    "                               HE_settings['nuclei'], HE_settings['cyto'],\n",
    "                               nuc_normfactor=nuc_normfactor, cyto_normfactor=cyto_normfactor)\n",
    "    imsave(FC, pseudoHE)"
   ]
  },
  {
   "cell_type": "code",
   "execution_count": null,
   "metadata": {},
   "outputs": [],
   "source": []
  }
 ],
 "metadata": {
  "kernelspec": {
   "display_name": "Python 3.8.3 ('base')",
   "language": "python",
   "name": "python3"
  },
  "language_info": {
   "codemirror_mode": {
    "name": "ipython",
    "version": 3
   },
   "file_extension": ".py",
   "mimetype": "text/x-python",
   "name": "python",
   "nbconvert_exporter": "python",
   "pygments_lexer": "ipython3",
   "version": "3.8.3"
  },
  "orig_nbformat": 4,
  "vscode": {
   "interpreter": {
    "hash": "ad2bdc8ecc057115af97d19610ffacc2b4e99fae6737bb82f5d7fb13d2f2c186"
   }
  }
 },
 "nbformat": 4,
 "nbformat_minor": 2
}
