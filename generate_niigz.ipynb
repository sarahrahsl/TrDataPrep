{
 "cells": [
  {
   "cell_type": "markdown",
   "metadata": {},
   "source": [
    "Convert segmentation mask .jpeg stacks to .nii.gz file"
   ]
  },
  {
   "cell_type": "code",
   "execution_count": null,
   "metadata": {},
   "outputs": [],
   "source": [
    "import os\n",
    "import numpy as np\n",
    "import nibabel as nib\n",
    "from imageio import imread\n",
    "\n",
    "Seg_dir = r\"W:\\ITAS3D_training_data\\PGP9.5\\train\\Ch0_seg\"\n",
    "savedir = r\"Z:\\Ray\\nnunet\\nnUNet_raw_data_base\\Dataset700_PGP9.5\\labelsTr\"\n",
    "blknames = os.listdir(Seg_dir)\n",
    "blkdirs = [os.path.join(Seg_dir, blkname) for blkname in blknames]\n",
    "\n",
    "# for blkdir in blkdirs[4:]:\n",
    "blkdir = blkdirs[3]\n",
    "image_names = os.listdir(blkdir)\n",
    "image_names.sort()\n",
    "\n",
    "# Load the first image to get its dimensions\n",
    "first_image = imread(os.path.join(blkdir, image_names[0]))\n",
    "height, width = first_image.shape\n",
    "image_stack = np.zeros((height, width, len(image_names)), dtype=np.uint8)\n",
    "\n",
    "# Loop through the images and stack them along the z-axis\n",
    "for i, image_name in enumerate(image_names):\n",
    "    image = imread(os.path.join(blkdir, image_name))\n",
    "    _, image = cv.threshold(image, 127, 1, cv.THRESH_BINARY)\n",
    "    image_stack[:,:,i] = image\n",
    "\n",
    "# Create the NIfTI object from the 3D array and save the NIfTI object\n",
    "nii_obj = nib.Nifti1Image(image_stack, np.eye(4))\n",
    "output_path = savedir + os.sep + os.path.basename(blkdir) + \".nii.gz\"\n",
    "print(output_path)\n",
    "nib.save(nii_obj, output_path)\n",
    "    "
   ]
  },
  {
   "cell_type": "markdown",
   "metadata": {},
   "source": [
    "Convert Ch1, Ch2 to .nii.gz format with file dir."
   ]
  },
  {
   "cell_type": "code",
   "execution_count": null,
   "metadata": {},
   "outputs": [],
   "source": [
    "import os\n",
    "import numpy as np\n",
    "import nibabel as nib\n",
    "from imageio import imread\n",
    "\n",
    "ch1_dir = r\"W:\\ITAS3D_training_data\\PGP9.5\\validation_UPenn_AFM045\\test\\ch1\"\n",
    "ch2_dir = r\"W:\\ITAS3D_training_data\\PGP9.5\\validation_UPenn_AFM045\\test\\ch2\"\n",
    "save_dir = r\"Z:\\Ray\\nnunet\\nnUNet_raw_data_base\\Dataset700_PGP9.5\\imagesTs\"\n",
    "\n",
    "if not os.path.exists(save_dir):\n",
    "    os.mkdir(save_dir)\n",
    "\n",
    "ch1_blknames = os.listdir(ch1_dir)\n",
    "ch2_blknames = os.listdir(ch2_dir)\n",
    "ch1_blkdirs = [os.path.join(ch1_dir, blkname) for blkname in ch1_blknames]\n",
    "ch2_blkdirs = [os.path.join(ch2_dir, blkname) for blkname in ch2_blknames]\n",
    "\n",
    "chan_blk = [(ch1_blkdirs, \"_0000\"),\n",
    "            (ch2_blkdirs, \"_0001\")]\n",
    "\n",
    "for chan in chan_blk:\n",
    "\n",
    "    for blkdir in chan[0]:\n",
    "        image_names = os.listdir(blkdir)\n",
    "        image_names.sort()\n",
    "\n",
    "        # Load the first image to get its dimensions\n",
    "        first_image = imread(os.path.join(blkdir, image_names[0]))\n",
    "        height, width = first_image.shape\n",
    "        image_stack = np.zeros((height, width, len(image_names)), dtype=np.uint8)\n",
    "\n",
    "        # # Loop through the images and stack them along the z-axis\n",
    "        for i, image_name in enumerate(image_names):\n",
    "            image = imread(os.path.join(blkdir, image_name))\n",
    "           \n",
    "            image_stack[:,:,i] = image\n",
    "\n",
    "        # Create the NIfTI object from the 3D array and save the NIfTI object\n",
    "        nii_obj = nib.Nifti1Image(image_stack, np.eye(4))\n",
    "        blkname = os.path.basename(blkdir)\n",
    "        output_path = save_dir + os.sep + blkname + chan[1] + \".nii.gz\"\n",
    "        print(output_path)\n",
    "        nib.save(nii_obj, output_path)\n",
    "            "
   ]
  }
 ],
 "metadata": {
  "kernelspec": {
   "display_name": "Python 3.8.3 ('base')",
   "language": "python",
   "name": "python3"
  },
  "language_info": {
   "name": "python",
   "version": "3.8.3"
  },
  "orig_nbformat": 4,
  "vscode": {
   "interpreter": {
    "hash": "ad2bdc8ecc057115af97d19610ffacc2b4e99fae6737bb82f5d7fb13d2f2c186"
   }
  }
 },
 "nbformat": 4,
 "nbformat_minor": 2
}
